{
 "cells": [
  {
   "cell_type": "code",
   "execution_count": 17,
   "metadata": {},
   "outputs": [],
   "source": [
    "import tensorflow as tf\n",
    "import numpy as np\n",
    "import matplotlib.pyplot as plt\n",
    "np.set_printoptions(threshold = np.nan)\n",
    "def loadData():\n",
    "    with np.load('notMNIST.npz') as data :\n",
    "        Data, Target = data ['images'], data['labels']\n",
    "        #print(Data[3745])\n",
    "        #plt.figure()\n",
    "        #plt.imshow(Data[3745])\n",
    "        #plt.show()\n",
    "        #print(Target)     # 0-9\n",
    "        posClass = 2\n",
    "        negClass = 9\n",
    "        dataIndx = (Target==posClass) + (Target==negClass)\n",
    "        #true =1 false=-1?\n",
    "        #print(dataIndx)   #true or false\n",
    "        #print(Data[dataIndx])  #Data[true]\n",
    "        Data = Data[dataIndx]/255.\n",
    "        #print(Data[0])\n",
    "        Target = Target[dataIndx].reshape(-1, 1)\n",
    "        #print(Target[10])\n",
    "        #Target [size, 1]\n",
    "        Target[Target==posClass] = 1\n",
    "        Target[Target==negClass] = 0\n",
    "        np.random.seed(421)\n",
    "        randIndx = np.arange(len(Data))\n",
    "        #print(randIndx)\n",
    "        np.random.shuffle(randIndx)\n",
    "        Data, Target = Data[randIndx], Target[randIndx]\n",
    "        #print(Target)\n",
    "        trainData, trainTarget = Data[:3500], Target[:3500]\n",
    "        validData, validTarget = Data[3500:3600], Target[3500:3600]\n",
    "        testData, testTarget = Data[3600:], Target[3600:]\n",
    "    return trainData, validData, testData, trainTarget, validTarget, testTarget"
   ]
  },
  {
   "cell_type": "code",
   "execution_count": 18,
   "metadata": {},
   "outputs": [],
   "source": [
    "def MSE(W, b, x, y, reg):\n",
    "    loss = 0\n",
    "    for i in range(0,len(y)):\n",
    "        traning_data = x[i].flatten()\n",
    "        loss =1/(2*len(y))*(np.dot(np.transpose(W),traning_data) + b - y[i])**2 + loss\n",
    "    loss = loss + reg/2 * np.dot(np.transpose(W), W)\n",
    "    return loss"
   ]
  },
  {
   "cell_type": "code",
   "execution_count": 19,
   "metadata": {},
   "outputs": [],
   "source": [
    "def gradMSE(W, b, x, y, reg):\n",
    "    grad_W = 0\n",
    "    grad_b = 0\n",
    "    for i in range(0,len(y)):\n",
    "        traning_data = x[i].flatten()\n",
    "        grad_W = (1/len(y)) * (np.dot(np.transpose(W),traning_data) + b - y[i]) * traning_data + grad_W\n",
    "        grad_b = (1/len(y)) * (np.dot(np.transpose(W),traning_data) + b - y[i]) + grad_b\n",
    "    grad_W = grad_W + reg * W\n",
    "    return grad_W, grad_b"
   ]
  },
  {
   "cell_type": "code",
   "execution_count": null,
   "metadata": {},
   "outputs": [],
   "source": [
    "def batch_grad_descent(W, b, x, y, alpha, epochs, reg, error_tol):\n",
    "    old_loss = 0;\n",
    "    rate_losses = []\n",
    "    validate_losses = []\n",
    "    test_losses = []\n",
    "    for i in range(0,epochs):\n",
    "        \n",
    "        new_loss = MSE(W,b,x,y,reg)\n",
    "        validate_loss = MSE(W,b,validData,validTarget,reg)\n",
    "        test_loss = MSE(W,b,testData,testTarget,reg)\n",
    "        \n",
    "        grad_W, grad_b = gradMSE(W,b,x,y,reg)\n",
    "        W = W - grad_W * alpha\n",
    "        b = b - grad_b * alpha\n",
    "        if abs(new_loss - old_loss) < error_tol:\n",
    "            final_W = W\n",
    "            final_b = b\n",
    "        old_loss = new_loss\n",
    "        #print(new_loss, i)\n",
    "        rate_losses.append(new_loss)\n",
    "        validate_losses.append(validate_loss)\n",
    "        test_losses.append(test_loss)\n",
    "        \n",
    "    return rate_losses,validate_losses,test_losses"
   ]
  },
  {
   "cell_type": "code",
   "execution_count": null,
   "metadata": {},
   "outputs": [],
   "source": [
    "trainData, validData, testData, trainTarget, validTarget, testTarget = loadData()\n",
    "weight = np.zeros(len(trainData[0].flatten()))\n",
    "rate_losses,validate_losses,test_losses  = batch_grad_descent(weight,0, trainData, trainTarget, 0.005, 5000,0.5,1*10e-7)\n",
    "print(rate_losses,validate_losses,test_losses)"
   ]
  },
  {
   "cell_type": "code",
   "execution_count": null,
   "metadata": {},
   "outputs": [],
   "source": [
    "plt.figure(0)\n",
    "plt.title(\"regularization parameter is 0.5\")\n",
    "plt.xlabel(\"epoch\")\n",
    "plt.ylabel(\"loss\")\n",
    "plt.plot(range(len(rate_losses)), rate_losses, 'g--', label=\"training\")\n",
    "plt.plot(range(len(validate_losses)), validate_losses, label=\"validate\")\n",
    "plt.plot(range(len(test_losses)), test_losses, label=\"testing\")\n",
    "plt.grid()\n",
    "plt.legend()"
   ]
  },
  {
   "cell_type": "code",
   "execution_count": null,
   "metadata": {},
   "outputs": [],
   "source": [
    "def batch_grad_descent_2(W, b, x, y, alpha, epochs, reg, error_tol):\n",
    "    old_loss = 0;\n",
    "    rate_losses = []\n",
    "    for i in range(0,epochs):\n",
    "        \n",
    "        new_loss = MSE(W,b,x,y,reg)      \n",
    "        grad_W, grad_b = gradMSE(W,b,x,y,reg)\n",
    "        W = W - grad_W * alpha\n",
    "        b = b - grad_b * alpha\n",
    "        if abs(new_loss - old_loss) < error_tol:\n",
    "            final_W = W\n",
    "            final_b = b\n",
    "        old_loss = new_loss\n",
    "        #print(new_loss,validate_loss,test_loss, i)\n",
    "        rate_losses.append(new_loss)\n",
    "    return rate_losses"
   ]
  },
  {
   "cell_type": "code",
   "execution_count": null,
   "metadata": {},
   "outputs": [],
   "source": [
    "trainData, validData, testData, trainTarget, validTarget, testTarget = loadData()\n",
    "weight = np.zeros(len(trainData[0].flatten()))\n",
    "first_losses  = batch_grad_descent_2(weight,0, trainData, trainTarget, 0.005, 5000,0.001,1e-7)\n",
    "second_losses  = batch_grad_descent_2(weight,0, trainData, trainTarget, 0.005, 5000,0.1,1e-7)\n",
    "third_losses  = batch_grad_descent_2(weight,0, trainData, trainTarget, 0.005, 5000,0.5,1e-7)\n",
    "print(first_losses,second_losses,third_losses)"
   ]
  },
  {
   "cell_type": "code",
   "execution_count": null,
   "metadata": {},
   "outputs": [],
   "source": [
    "plt.figure(0)\n",
    "plt.title(\"regularization parameter vs loss\")\n",
    "plt.xlabel(\"epoch\")\n",
    "plt.ylabel(\"loss\")\n",
    "plt.plot(range(len(first_losses)), first_losses, 'g--', label=\"0.001\")\n",
    "plt.plot(range(len(second_losses)), second_losses, label=\"0.1\")\n",
    "plt.plot(range(len(third_losses)), third_losses, label=\"0.5\")\n",
    "plt.grid()\n",
    "plt.legend()"
   ]
  },
  {
   "cell_type": "code",
   "execution_count": null,
   "metadata": {},
   "outputs": [],
   "source": [
    "print(first_losses[-1], second_losses[-1], third_losses[-1])"
   ]
  },
  {
   "cell_type": "code",
   "execution_count": null,
   "metadata": {},
   "outputs": [],
   "source": [
    "def normal_equation(x,y):\n",
    "    training = np.empty((len(y),len(trainData[0].flatten())))\n",
    "    for i in range(0,len(y)):\n",
    "        training[i] = x[i].flatten()\n",
    "    final = np.dot(np.linalg.inv(np.dot(np.transpose(training),training)),np.dot(np.transpose(training),y))\n",
    "    return final_weight"
   ]
  },
  {
   "cell_type": "code",
   "execution_count": null,
   "metadata": {},
   "outputs": [],
   "source": [
    "trainData, validData, testData, trainTarget, validTarget, testTarget = loadData()\n",
    "final_weight = normal_equation(trainData,trainTarget)\n",
    "result = MSE(final_weight, 0, trainData, trainTarget, 0)\n",
    "print(result)"
   ]
  },
  {
   "cell_type": "code",
   "execution_count": null,
   "metadata": {},
   "outputs": [],
   "source": [
    "def crossEntropyLoss(W, b, x, y, reg):\n",
    "    loss = 0\n",
    "    for i in range(0,len(y)):\n",
    "        traning_data = x[i].flatten()\n",
    "        y_bar = np.dot(np.transpose(W),traning_data) + b\n",
    "        loss =1/(len(y))*(np.log(1 + np.exp(-y_bar)) + (1-y[i])*y_bar) + loss\n",
    "    loss = loss + reg/2 * np.dot(np.transpose(W), W)\n",
    "    #print(y_bar)\n",
    "    return loss"
   ]
  },
  {
   "cell_type": "code",
   "execution_count": null,
   "metadata": {},
   "outputs": [],
   "source": [
    "def gradCE(W, b, x, y, reg):\n",
    "    grad_W = 0\n",
    "    grad_b = 0.0\n",
    "    for i in range(0,len(y)):\n",
    "        traning_data = x[i].flatten()\n",
    "        expo_fun = np.exp(-(np.dot(np.transpose(W),traning_data) + b))\n",
    "        grad_W = (1/len(y)) * ((1-y[i]) - (expo_fun/(1+expo_fun))) * traning_data + grad_W\n",
    "        grad_b = (1/len(y)) * (1/(1+expo_fun) - y[i]) + grad_b\n",
    "    grad_W = grad_W + reg * W\n",
    "    #print(grad_W)\n",
    "    return grad_W, grad_b"
   ]
  },
  {
   "cell_type": "code",
   "execution_count": null,
   "metadata": {},
   "outputs": [],
   "source": [
    "def grad_descent(W, b, x, y, alpha, iterations, reg, EPS, lossType=\"None\"):\n",
    "    old_loss = 0;\n",
    "    rate_losses = []\n",
    "    validate_losses = []\n",
    "    test_losses = []\n",
    "    for i in range(0,iterations):\n",
    "        if(lossType == \"b\"):\n",
    "            new_loss = MSE(W,b,x,y,reg)\n",
    "            #validate_loss = MSE(W,b,validData,validTarget,reg)\n",
    "            #test_loss = MSE(W,b,testData,testTarget,reg)\n",
    "\n",
    "            grad_W, grad_b = gradMSE(W,b,x,y,reg)\n",
    "            W = W - grad_W * alpha\n",
    "            b = b - grad_b * alpha\n",
    "            if abs(new_loss - old_loss) < EPS:\n",
    "                final_W = W\n",
    "                final_b = b\n",
    "            old_loss = new_loss\n",
    "            rate_losses.append(new_loss)\n",
    "            #validate_losses.append(validate_loss)\n",
    "            #test_losses.append(test_loss)\n",
    "            #print(new_loss, i)\n",
    "        elif(lossType == \"c\"):\n",
    "            new_loss = crossEntropyLoss(W,b,x,y,reg)\n",
    "            #validate_loss = crossEntropyLoss(W,b,validData,validTarget,reg)\n",
    "            #test_loss = crossEntropyLoss(W,b,testData,testTarget,reg)\n",
    "            grad_W, grad_b = gradCE(W,b,x,y,reg)\n",
    "            W = W - grad_W * alpha\n",
    "            b = b - grad_b * alpha\n",
    "            if abs(new_loss - old_loss) < EPS:\n",
    "                final_W = W\n",
    "                final_b = b\n",
    "            old_loss = new_loss\n",
    "            rate_losses.append(new_loss)\n",
    "            #validate_losses.append(validate_loss)\n",
    "            #test_losses.append(test_loss)\n",
    "            \n",
    "            #print(new_loss, i)\n",
    "    return rate_losses"
   ]
  },
  {
   "cell_type": "code",
   "execution_count": null,
   "metadata": {},
   "outputs": [],
   "source": [
    "def buildGraph(beta1=None, beta2=None, epsilon=None, lossType=None, learning_rate=None):\n",
    "    # Your implementation here\n",
    "    pass"
   ]
  },
  {
   "cell_type": "code",
   "execution_count": null,
   "metadata": {},
   "outputs": [],
   "source": [
    "trainData, validData, testData, trainTarget, validTarget, testTarget = loadData()\n",
    "weight = np.zeros(len(trainData[0].flatten()))\n",
    "first_losses, second_losses, third_losses = grad_descent(weight, 0, trainData,trainTarget, 0.005, 5000, 0.1, 1*10e-7, \"c\")\n",
    "print(first_losses, second_losses, third_losses)"
   ]
  },
  {
   "cell_type": "code",
   "execution_count": null,
   "metadata": {},
   "outputs": [],
   "source": [
    "print(first_losses[-1], second_losses[-1], third_losses[-1])"
   ]
  },
  {
   "cell_type": "code",
   "execution_count": null,
   "metadata": {},
   "outputs": [],
   "source": [
    "plt.figure(0)\n",
    "plt.title(\"Logistic regression (reg 0.005)\")\n",
    "plt.xlabel(\"epoch\")\n",
    "plt.ylabel(\"loss\")\n",
    "plt.plot(range(700), first_losses[:700], 'g--', label=\"training\")\n",
    "plt.plot(range(700), second_losses[:700], 'r--', label=\"validate\")\n",
    "plt.plot(range(700), third_losses[:700], 'y--',label=\"testing\")\n",
    "plt.grid()\n",
    "plt.legend()"
   ]
  },
  {
   "cell_type": "code",
   "execution_count": null,
   "metadata": {},
   "outputs": [],
   "source": [
    "def accuracy_CE(W, b, x, y, reg):\n",
    "    correct = 0\n",
    "    for i in range(0,len(y)):\n",
    "        traning_data = x[i].flatten()\n",
    "        sigma = 1/(1+ np.exp(-(np.dot(np.transpose(W),traning_data) + b)))\n",
    "        if(y[i] == 0 and sigma <=0.5):\n",
    "            correct = correct +1\n",
    "        elif(y[i] == 1 and sigma >0.5):\n",
    "            correct = correct +1\n",
    "    accuracy_rate = (correct/len(y))*100\n",
    "    #print(accuracy_rate)\n",
    "    return accuracy_rate"
   ]
  },
  {
   "cell_type": "code",
   "execution_count": null,
   "metadata": {},
   "outputs": [],
   "source": [
    "def accuracy(W, b, x, y, alpha, iterations, reg, EPS, lossType=\"None\"):\n",
    "    old_loss = 0;\n",
    "    rate_losses = []\n",
    "    validate_losses = []\n",
    "    test_losses = []\n",
    "    for i in range(0,iterations):\n",
    "        if(lossType == \"b\"):\n",
    "            new_loss = MSE(W,b,x,y,reg)\n",
    "            validate_loss = MSE(W,b,validData,validTarget,reg)\n",
    "            test_loss = MSE(W,b,testData,testTarget,reg)\n",
    "            grad_W, grad_b = gradMSE(W,b,x,y,reg)\n",
    "\n",
    "            W = W - grad_W * alpha\n",
    "            b = b - grad_b * alpha\n",
    "            if abs(new_loss - old_loss) < EPS:\n",
    "                final_W = W\n",
    "                final_b = b\n",
    "            old_loss = new_loss\n",
    "            rate_losses.append(new_loss)\n",
    "            #validate_losses.append(validate_loss)\n",
    "            #test_losses.append(test_loss)\n",
    "        elif(lossType == \"c\"):\n",
    "            new_loss = accuracy_CE(W,b,x,y,reg)\n",
    "            validate_loss = accuracy_CE(W,b,validData,validTarget,reg)\n",
    "            test_loss = accuracy_CE(W,b,testData,testTarget,reg)\n",
    "            grad_W, grad_b = gradCE(W,b,x,y,reg)\n",
    "            W = W - grad_W * alpha\n",
    "            b = b - grad_b * alpha\n",
    "            if abs(new_loss - old_loss) < EPS:\n",
    "                final_W = W\n",
    "                final_b = b\n",
    "            old_loss = new_loss\n",
    "            rate_losses.append(new_loss)\n",
    "            validate_losses.append(validate_loss)\n",
    "            test_losses.append(test_loss)\n",
    "            \n",
    "            #print(new_loss, i)\n",
    "    return rate_losses,validate_losses,test_losses"
   ]
  },
  {
   "cell_type": "code",
   "execution_count": null,
   "metadata": {},
   "outputs": [],
   "source": [
    "trainData, validData, testData, trainTarget, validTarget, testTarget = loadData()\n",
    "weight = np.zeros(len(trainData[0].flatten()))\n",
    "first_losses, second_losses, third_losses = accuracy(weight, 0, trainData,trainTarget,  0.005, 5000, 0.1, 1*10e-7, \"c\")\n",
    "print(first_losses, second_losses, third_losses)"
   ]
  },
  {
   "cell_type": "code",
   "execution_count": null,
   "metadata": {},
   "outputs": [],
   "source": [
    "plt.figure(0)\n",
    "plt.title(\"Accuracy curve (reg 0.005)\")\n",
    "plt.xlabel(\"epoch\")\n",
    "plt.ylabel(\"Accuracy\")\n",
    "plt.plot(range(700), first_losses[1:701], 'g--', label=\"training\")\n",
    "plt.plot(range(700), second_losses[1:701], 'r--', label=\"validate\")\n",
    "plt.plot(range(700), third_losses[1:701], 'y--',label=\"testing\")\n",
    "plt.grid()\n",
    "plt.legend()"
   ]
  },
  {
   "cell_type": "code",
   "execution_count": null,
   "metadata": {},
   "outputs": [],
   "source": [
    "print(max(first_losses), max(second_losses), max(third_losses))"
   ]
  },
  {
   "cell_type": "code",
   "execution_count": null,
   "metadata": {},
   "outputs": [],
   "source": [
    "trainData, validData, testData, trainTarget, validTarget, testTarget = loadData()\n",
    "weight = np.zeros(len(trainData[0].flatten()))\n",
    "#first_losses = grad_descent(weight, 0, trainData,trainTarget, 0.005, 5000, 0.1, 1*10e-7, \"b\")\n",
    "second_losses = grad_descent(weight, 0, trainData,trainTarget, 0.005, 5000, 0.1, 1*10e-7, \"c\")\n",
    "print(first_losses)"
   ]
  },
  {
   "cell_type": "code",
   "execution_count": 15,
   "metadata": {},
   "outputs": [
    {
     "data": {
      "text/plain": [
       "<matplotlib.legend.Legend at 0xb3a00c4a8>"
      ]
     },
     "execution_count": 15,
     "metadata": {},
     "output_type": "execute_result"
    },
    {
     "data": {
      "image/png": "[encoded data removed]",
      "text/plain": [
       "<Figure size 432x288 with 1 Axes>"
      ]
     },
     "metadata": {
      "needs_background": "light"
     },
     "output_type": "display_data"
    }
   ],
   "source": [
    "plt.figure(0)\n",
    "plt.title(\"linear vs logistics (reg 0.005)\")\n",
    "plt.xlabel(\"epoch\")\n",
    "plt.ylabel(\"loss\")\n",
    "plt.plot(range(700), first_losses[0:700], 'g--', label=\"linear\")\n",
    "plt.plot(range(700), second_losses[0:700],'r--', label=\"logistic\")\n",
    "plt.grid()\n",
    "plt.legend()"
   ]
  },
  {
   "cell_type": "code",
   "execution_count": null,
   "metadata": {},
   "outputs": [],
   "source": [
    "print(first_losses.shape)"
   ]
  },
  {
   "cell_type": "code",
   "execution_count": 16,
   "metadata": {},
   "outputs": [],
   "source": [
    "def accuracy_MSE(W, b, x, y, reg):\n",
    "    correct = 0\n",
    "    for i in range(0,len(y)):\n",
    "        traning_data = x[i].flatten()\n",
    "        y_hat = np.dot(np.transpose(W),traning_data) + b\n",
    "        if(y[i] == 0 and np.sign(y_hat)== -1):\n",
    "            correct = correct +1\n",
    "        elif(y[i] == 1 and np.sign(y_hat)== 1):\n",
    "            correct = correct +1\n",
    "    accuracy_rate = (correct/len(y))*100\n",
    "    return accuracy_rate"
   ]
  },
  {
   "cell_type": "code",
   "execution_count": null,
   "metadata": {},
   "outputs": [],
   "source": []
  }
 ],
 "metadata": {
  "kernelspec": {
   "display_name": "Python 3",
   "language": "python",
   "name": "python3"
  },
  "language_info": {
   "codemirror_mode": {
    "name": "ipython",
    "version": 3
   },
   "file_extension": ".py",
   "mimetype": "text/x-python",
   "name": "python",
   "nbconvert_exporter": "python",
   "pygments_lexer": "ipython3",
   "version": "3.6.8"
  }
 },
 "nbformat": 4,
 "nbformat_minor": 2
}
